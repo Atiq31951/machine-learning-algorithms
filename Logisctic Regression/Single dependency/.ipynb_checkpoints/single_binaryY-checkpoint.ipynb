{
 "cells": [
  {
   "cell_type": "code",
   "execution_count": 21,
   "id": "9574f5df-739c-4042-b834-0da22c38cd95",
   "metadata": {},
   "outputs": [],
   "source": [
    "import pandas as pd\n",
    "import numpy as np\n",
    "import matplotlib.pyplot as plt\n",
    "from sklearn.model_selection import train_test_split\n",
    "from sklearn.linear_model import LogisticRegression"
   ]
  },
  {
   "cell_type": "code",
   "execution_count": 2,
   "id": "c44b6f8e-999e-4571-89fc-931e0d390474",
   "metadata": {},
   "outputs": [],
   "source": [
    "#Read Data\n",
    "df = pd.read_csv('single_binary.csv')"
   ]
  },
  {
   "cell_type": "code",
   "execution_count": 3,
   "id": "d2b3bf50-5915-46ad-9bb3-61a842cd0496",
   "metadata": {},
   "outputs": [
    {
     "data": {
      "text/plain": [
       "age        0\n",
       "married    1\n",
       "dtype: int64"
      ]
     },
     "execution_count": 3,
     "metadata": {},
     "output_type": "execute_result"
    }
   ],
   "source": [
    "df.isnull().sum()"
   ]
  },
  {
   "cell_type": "code",
   "execution_count": 13,
   "id": "78ecc7b9-dbfe-4dad-8eb5-c6422edc9692",
   "metadata": {},
   "outputs": [],
   "source": [
    "handle = df[\"married\"].median()"
   ]
  },
  {
   "cell_type": "code",
   "execution_count": 12,
   "id": "e0a53a44-4564-4ac9-80ef-16ea7e940246",
   "metadata": {},
   "outputs": [],
   "source": [
    "df.married = df.married.fillna(handle)"
   ]
  },
  {
   "cell_type": "code",
   "execution_count": 16,
   "id": "e8745ab2-8bee-4f34-baed-09240f4210c2",
   "metadata": {},
   "outputs": [],
   "source": [
    "x = df[['age']]\n",
    "y = df['married']"
   ]
  },
  {
   "cell_type": "code",
   "execution_count": 76,
   "id": "ecc1c62f-99e8-41b2-b34c-ddd797390258",
   "metadata": {},
   "outputs": [
    {
     "data": {
      "text/plain": [
       "1.0"
      ]
     },
     "execution_count": 76,
     "metadata": {},
     "output_type": "execute_result"
    }
   ],
   "source": [
    "xTrain, xTest, yTrain, yTest = train_test_split(x, y, test_size=0.3)\n",
    "\n",
    "model = LogisticRegression()\n",
    "model.fit(xTrain, yTrain)\n",
    "model.predict(xTest)\n",
    "model.score(xTest, yTest)"
   ]
  },
  {
   "cell_type": "code",
   "execution_count": 77,
   "id": "494ea0b8-9f0b-4b2b-b972-85cc312cca57",
   "metadata": {},
   "outputs": [
    {
     "data": {
      "text/plain": [
       "array([[0.22912934, 0.77087066],\n",
       "       [0.0463657 , 0.9536343 ],\n",
       "       [0.81794638, 0.18205362],\n",
       "       [0.0463657 , 0.9536343 ],\n",
       "       [0.99072254, 0.00927746],\n",
       "       [0.97737032, 0.02262968]])"
      ]
     },
     "execution_count": 77,
     "metadata": {},
     "output_type": "execute_result"
    }
   ],
   "source": [
    "model.predict_proba(xTest)"
   ]
  }
 ],
 "metadata": {
  "kernelspec": {
   "display_name": "Python 3 (ipykernel)",
   "language": "python",
   "name": "python3"
  },
  "language_info": {
   "codemirror_mode": {
    "name": "ipython",
    "version": 3
   },
   "file_extension": ".py",
   "mimetype": "text/x-python",
   "name": "python",
   "nbconvert_exporter": "python",
   "pygments_lexer": "ipython3",
   "version": "3.11.7"
  }
 },
 "nbformat": 4,
 "nbformat_minor": 5
}
